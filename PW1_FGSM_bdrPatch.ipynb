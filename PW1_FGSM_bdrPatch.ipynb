{
  "cells": [
    {
      "cell_type": "markdown",
      "metadata": {
        "id": "view-in-github",
        "colab_type": "text"
      },
      "source": [
        "<a href=\"https://colab.research.google.com/github/ubaldinho/Hello_World/blob/main/PW1_FGSM_bdrPatch.ipynb\" target=\"_parent\"><img src=\"https://colab.research.google.com/assets/colab-badge.svg\" alt=\"Open In Colab\"/></a>"
      ]
    },
    {
      "cell_type": "markdown",
      "id": "e264c5981c9d5aa3",
      "metadata": {
        "id": "e264c5981c9d5aa3"
      },
      "source": [
        "# FGSM Attack"
      ]
    },
    {
      "cell_type": "markdown",
      "id": "898576ab1239f009",
      "metadata": {
        "id": "898576ab1239f009"
      },
      "source": [
        "In this section, we demonstrate how to perform an adversarial attack on a classification model using the Fast Gradient Sign Method (FGSM)."
      ]
    },
    {
      "cell_type": "markdown",
      "id": "f5c27d1529fe36ed",
      "metadata": {
        "id": "f5c27d1529fe36ed"
      },
      "source": [
        "First, we import all packages required for this practical work:"
      ]
    },
    {
      "cell_type": "code",
      "id": "7416940d947a5e70",
      "metadata": {
        "id": "7416940d947a5e70"
      },
      "source": [
        "from torch import nn\n",
        "import torch\n",
        "\n",
        "from src.data import CIFAR10\n",
        "import matplotlib.pyplot as plt\n",
        "import numpy as np"
      ],
      "outputs": [],
      "execution_count": 1
    },
    {
      "cell_type": "markdown",
      "id": "a0d9ab7fca1e7cf5",
      "metadata": {
        "id": "a0d9ab7fca1e7cf5"
      },
      "source": [
        "The following cell loads the CIFAR-10 dataset and a pre-trained ResNet-18 architecture. The final fully connected layer of the model is then modified to output 10 features, corresponding to the 10 classes in the CIFAR-10 dataset.  \n",
        "\n",
        "Next, load the weights of the trained model model\\_cifar10.pth by following the PyTorch documentation:   https://pytorch.org/tutorials/beginner/saving_loading_models.html#saving-loading-model-for-inference"
      ]
    },
    {
      "cell_type": "code",
      "id": "initial_id",
      "metadata": {
        "id": "initial_id",
        "colab": {
          "base_uri": "https://localhost:8080/"
        },
        "outputId": "75e12b21-eade-4331-ca45-1b823ef099eb"
      },
      "source": [
        "train_set, test_set = CIFAR10() # Load the dataset\n",
        "\n",
        "model = torch.hub.load('pytorch/vision', 'resnet18', weights=None) # Load the model architecture\n",
        "model.fc = nn.Linear(model.fc.in_features, 10) # Set the last layer as a fully connected layer\n",
        "PATH_model = \"/content/src/model_cifar10.pth\"\n",
        "model.load_state_dict(torch.load(PATH_model, weights_only=True)) # TODO : (a) Load the weights of the trained model\n",
        "model.eval()"
      ],
      "outputs": [
        {
          "output_type": "stream",
          "name": "stderr",
          "text": [
            "Using cache found in /root/.cache/torch/hub/pytorch_vision_main\n"
          ]
        },
        {
          "output_type": "execute_result",
          "data": {
            "text/plain": [
              "ResNet(\n",
              "  (conv1): Conv2d(3, 64, kernel_size=(7, 7), stride=(2, 2), padding=(3, 3), bias=False)\n",
              "  (bn1): BatchNorm2d(64, eps=1e-05, momentum=0.1, affine=True, track_running_stats=True)\n",
              "  (relu): ReLU(inplace=True)\n",
              "  (maxpool): MaxPool2d(kernel_size=3, stride=2, padding=1, dilation=1, ceil_mode=False)\n",
              "  (layer1): Sequential(\n",
              "    (0): BasicBlock(\n",
              "      (conv1): Conv2d(64, 64, kernel_size=(3, 3), stride=(1, 1), padding=(1, 1), bias=False)\n",
              "      (bn1): BatchNorm2d(64, eps=1e-05, momentum=0.1, affine=True, track_running_stats=True)\n",
              "      (relu): ReLU(inplace=True)\n",
              "      (conv2): Conv2d(64, 64, kernel_size=(3, 3), stride=(1, 1), padding=(1, 1), bias=False)\n",
              "      (bn2): BatchNorm2d(64, eps=1e-05, momentum=0.1, affine=True, track_running_stats=True)\n",
              "    )\n",
              "    (1): BasicBlock(\n",
              "      (conv1): Conv2d(64, 64, kernel_size=(3, 3), stride=(1, 1), padding=(1, 1), bias=False)\n",
              "      (bn1): BatchNorm2d(64, eps=1e-05, momentum=0.1, affine=True, track_running_stats=True)\n",
              "      (relu): ReLU(inplace=True)\n",
              "      (conv2): Conv2d(64, 64, kernel_size=(3, 3), stride=(1, 1), padding=(1, 1), bias=False)\n",
              "      (bn2): BatchNorm2d(64, eps=1e-05, momentum=0.1, affine=True, track_running_stats=True)\n",
              "    )\n",
              "  )\n",
              "  (layer2): Sequential(\n",
              "    (0): BasicBlock(\n",
              "      (conv1): Conv2d(64, 128, kernel_size=(3, 3), stride=(2, 2), padding=(1, 1), bias=False)\n",
              "      (bn1): BatchNorm2d(128, eps=1e-05, momentum=0.1, affine=True, track_running_stats=True)\n",
              "      (relu): ReLU(inplace=True)\n",
              "      (conv2): Conv2d(128, 128, kernel_size=(3, 3), stride=(1, 1), padding=(1, 1), bias=False)\n",
              "      (bn2): BatchNorm2d(128, eps=1e-05, momentum=0.1, affine=True, track_running_stats=True)\n",
              "      (downsample): Sequential(\n",
              "        (0): Conv2d(64, 128, kernel_size=(1, 1), stride=(2, 2), bias=False)\n",
              "        (1): BatchNorm2d(128, eps=1e-05, momentum=0.1, affine=True, track_running_stats=True)\n",
              "      )\n",
              "    )\n",
              "    (1): BasicBlock(\n",
              "      (conv1): Conv2d(128, 128, kernel_size=(3, 3), stride=(1, 1), padding=(1, 1), bias=False)\n",
              "      (bn1): BatchNorm2d(128, eps=1e-05, momentum=0.1, affine=True, track_running_stats=True)\n",
              "      (relu): ReLU(inplace=True)\n",
              "      (conv2): Conv2d(128, 128, kernel_size=(3, 3), stride=(1, 1), padding=(1, 1), bias=False)\n",
              "      (bn2): BatchNorm2d(128, eps=1e-05, momentum=0.1, affine=True, track_running_stats=True)\n",
              "    )\n",
              "  )\n",
              "  (layer3): Sequential(\n",
              "    (0): BasicBlock(\n",
              "      (conv1): Conv2d(128, 256, kernel_size=(3, 3), stride=(2, 2), padding=(1, 1), bias=False)\n",
              "      (bn1): BatchNorm2d(256, eps=1e-05, momentum=0.1, affine=True, track_running_stats=True)\n",
              "      (relu): ReLU(inplace=True)\n",
              "      (conv2): Conv2d(256, 256, kernel_size=(3, 3), stride=(1, 1), padding=(1, 1), bias=False)\n",
              "      (bn2): BatchNorm2d(256, eps=1e-05, momentum=0.1, affine=True, track_running_stats=True)\n",
              "      (downsample): Sequential(\n",
              "        (0): Conv2d(128, 256, kernel_size=(1, 1), stride=(2, 2), bias=False)\n",
              "        (1): BatchNorm2d(256, eps=1e-05, momentum=0.1, affine=True, track_running_stats=True)\n",
              "      )\n",
              "    )\n",
              "    (1): BasicBlock(\n",
              "      (conv1): Conv2d(256, 256, kernel_size=(3, 3), stride=(1, 1), padding=(1, 1), bias=False)\n",
              "      (bn1): BatchNorm2d(256, eps=1e-05, momentum=0.1, affine=True, track_running_stats=True)\n",
              "      (relu): ReLU(inplace=True)\n",
              "      (conv2): Conv2d(256, 256, kernel_size=(3, 3), stride=(1, 1), padding=(1, 1), bias=False)\n",
              "      (bn2): BatchNorm2d(256, eps=1e-05, momentum=0.1, affine=True, track_running_stats=True)\n",
              "    )\n",
              "  )\n",
              "  (layer4): Sequential(\n",
              "    (0): BasicBlock(\n",
              "      (conv1): Conv2d(256, 512, kernel_size=(3, 3), stride=(2, 2), padding=(1, 1), bias=False)\n",
              "      (bn1): BatchNorm2d(512, eps=1e-05, momentum=0.1, affine=True, track_running_stats=True)\n",
              "      (relu): ReLU(inplace=True)\n",
              "      (conv2): Conv2d(512, 512, kernel_size=(3, 3), stride=(1, 1), padding=(1, 1), bias=False)\n",
              "      (bn2): BatchNorm2d(512, eps=1e-05, momentum=0.1, affine=True, track_running_stats=True)\n",
              "      (downsample): Sequential(\n",
              "        (0): Conv2d(256, 512, kernel_size=(1, 1), stride=(2, 2), bias=False)\n",
              "        (1): BatchNorm2d(512, eps=1e-05, momentum=0.1, affine=True, track_running_stats=True)\n",
              "      )\n",
              "    )\n",
              "    (1): BasicBlock(\n",
              "      (conv1): Conv2d(512, 512, kernel_size=(3, 3), stride=(1, 1), padding=(1, 1), bias=False)\n",
              "      (bn1): BatchNorm2d(512, eps=1e-05, momentum=0.1, affine=True, track_running_stats=True)\n",
              "      (relu): ReLU(inplace=True)\n",
              "      (conv2): Conv2d(512, 512, kernel_size=(3, 3), stride=(1, 1), padding=(1, 1), bias=False)\n",
              "      (bn2): BatchNorm2d(512, eps=1e-05, momentum=0.1, affine=True, track_running_stats=True)\n",
              "    )\n",
              "  )\n",
              "  (avgpool): AdaptiveAvgPool2d(output_size=(1, 1))\n",
              "  (fc): Linear(in_features=512, out_features=10, bias=True)\n",
              ")"
            ]
          },
          "metadata": {},
          "execution_count": 5
        }
      ],
      "execution_count": 5
    },
    {
      "cell_type": "markdown",
      "id": "4787c3c7981f9931",
      "metadata": {
        "id": "4787c3c7981f9931"
      },
      "source": [
        "This cell defines and prints the labels of the CIFAR-10 dataset.  \n",
        "The dataset consists of 10 classes, each representing a different object category."
      ]
    },
    {
      "cell_type": "code",
      "id": "eee8a7a32a482709",
      "metadata": {
        "id": "eee8a7a32a482709",
        "colab": {
          "base_uri": "https://localhost:8080/"
        },
        "outputId": "38435621-b43b-43f3-f52f-35e49782d092"
      },
      "source": [
        "cifar10_labels = [\n",
        "    'airplane', 'automobile', 'bird', 'cat', 'deer',\n",
        "    'dog', 'frog', 'horse', 'ship', 'truck'\n",
        "] # Define the labels of the dataset\n",
        "\n",
        "for i, label in enumerate(cifar10_labels): # Print the labels\n",
        "    print(f\"{i} : {label}\")"
      ],
      "outputs": [
        {
          "output_type": "stream",
          "name": "stdout",
          "text": [
            "0 : airplane\n",
            "1 : automobile\n",
            "2 : bird\n",
            "3 : cat\n",
            "4 : deer\n",
            "5 : dog\n",
            "6 : frog\n",
            "7 : horse\n",
            "8 : ship\n",
            "9 : truck\n"
          ]
        }
      ],
      "execution_count": 3
    },
    {
      "cell_type": "markdown",
      "source": [
        "On definit ici les fonctions de protections pour attenuer considerablement les effets adversariaux"
      ],
      "metadata": {
        "id": "shXRDVw1Y9HC"
      },
      "id": "shXRDVw1Y9HC"
    },
    {
      "cell_type": "code",
      "source": [
        "def feature_squeezing(tensor, bits=7):\n",
        "    levels = 2 ** bits\n",
        "    return torch.floor(tensor * levels) / levels"
      ],
      "metadata": {
        "id": "RIDliJYyY7_u"
      },
      "id": "RIDliJYyY7_u",
      "execution_count": 72,
      "outputs": []
    },
    {
      "cell_type": "code",
      "source": [
        "def bit_depth_reduction(tensor, bits=3):\n",
        "    levels = 2 ** bits\n",
        "    return torch.round(tensor * levels) / levels"
      ],
      "metadata": {
        "id": "SQi4_0wFZM7i"
      },
      "id": "SQi4_0wFZM7i",
      "execution_count": 22,
      "outputs": []
    },
    {
      "cell_type": "code",
      "source": [
        "# Pour les transformations d'images (resize, tensor, etc.)\n",
        "import torchvision.transforms as transforms\n",
        "\n",
        "# Pour manipuler les images (conversion PIL, etc.)\n",
        "from PIL import Image, ImageFilter\n",
        "import io"
      ],
      "metadata": {
        "id": "qSuMsKP1bMcl"
      },
      "id": "qSuMsKP1bMcl",
      "execution_count": 30,
      "outputs": []
    },
    {
      "cell_type": "code",
      "source": [
        "\n",
        "# Pipeline de prétraitement typique pour un modèle comme ResNet\n",
        "preprocess = transforms.Compose([\n",
        "    transforms.ToTensor(),              # Convertit en tensor [0,1]\n",
        "\n",
        "])\n"
      ],
      "metadata": {
        "id": "KJfjWPRTcOIu"
      },
      "id": "KJfjWPRTcOIu",
      "execution_count": 91,
      "outputs": []
    },
    {
      "cell_type": "code",
      "source": [
        "def gaussian_blur(tensor):\n",
        "    img = transforms.ToPILImage()(tensor.squeeze())\n",
        "    blurred = img.filter(ImageFilter.GaussianBlur(radius=1))\n",
        "    return preprocess(blurred).unsqueeze(0)"
      ],
      "metadata": {
        "id": "UgrEEtPtZPIT"
      },
      "id": "UgrEEtPtZPIT",
      "execution_count": 94,
      "outputs": []
    },
    {
      "cell_type": "code",
      "source": [
        "def jpeg_compression(tensor, quality=50):\n",
        "    img = transforms.ToPILImage()(tensor.squeeze())\n",
        "    buffer = io.BytesIO()\n",
        "    img.save(buffer, format=\"JPEG\", quality=quality)\n",
        "    buffer.seek(0)\n",
        "    compressed = Image.open(buffer)\n",
        "    return preprocess(compressed).unsqueeze(0)"
      ],
      "metadata": {
        "id": "WTbXDQ4nZR-Z"
      },
      "id": "WTbXDQ4nZR-Z",
      "execution_count": 24,
      "outputs": []
    },
    {
      "cell_type": "markdown",
      "source": [
        "une fonction de comparaison des predictions"
      ],
      "metadata": {
        "id": "vC3-ZXXMZb7W"
      },
      "id": "vC3-ZXXMZb7W"
    },
    {
      "cell_type": "code",
      "source": [
        "def prediction_difference(original, perturbed):\n",
        "    pred_orig = model(original).argmax(dim=1)\n",
        "    pred_pert = model(perturbed).argmax(dim=1)\n",
        "    return pred_orig.item(), pred_pert.item(), pred_orig.item() != pred_pert.item()"
      ],
      "metadata": {
        "id": "7c5z6DbcZfk9"
      },
      "id": "7c5z6DbcZfk9",
      "execution_count": 25,
      "outputs": []
    },
    {
      "cell_type": "code",
      "source": [
        "class AutoEncoder(nn.Module):\n",
        "    def __init__(self):\n",
        "        super().__init__()\n",
        "        self.encoder = nn.Sequential(\n",
        "            nn.Conv2d(3, 16, 3, stride=2, padding=1),\n",
        "            nn.ReLU(),\n",
        "            nn.Conv2d(16, 8, 3, stride=2, padding=1),\n",
        "            nn.ReLU()\n",
        "        )\n",
        "        self.decoder = nn.Sequential(\n",
        "            nn.ConvTranspose2d(8, 16, 3, stride=2, padding=1, output_padding=1),\n",
        "            nn.ReLU(),\n",
        "            nn.ConvTranspose2d(16, 3, 3, stride=2, padding=1, output_padding=1),\n",
        "            nn.Sigmoid()\n",
        "        )\n",
        "\n",
        "    def forward(self, x):\n",
        "        return self.decoder(self.encoder(x))\n",
        "\n",
        "# Utilisation\n",
        "autoencoder = AutoEncoder()\n",
        "#x_purified = autoencoder(x_adv)"
      ],
      "metadata": {
        "id": "KTcnm_n2ZnZj"
      },
      "id": "KTcnm_n2ZnZj",
      "execution_count": 27,
      "outputs": []
    },
    {
      "cell_type": "code",
      "source": [
        "def patch_replace(tensor, patch_size=2):\n",
        "    img = tensor.clone()\n",
        "    c, h, w = img.shape[1:]\n",
        "    for i in range(0, h, patch_size):\n",
        "        for j in range(0, w, patch_size):\n",
        "            patch = img[:, :, i:i+patch_size, j:j+patch_size]\n",
        "            mean_val = patch.mean()\n",
        "            img[:, :, i:i+patch_size, j:j+patch_size] = mean_val\n",
        "    return img\n",
        "\n",
        "#x_patch = patch_replace(x_adv)"
      ],
      "metadata": {
        "id": "jddM00AUZtpZ"
      },
      "id": "jddM00AUZtpZ",
      "execution_count": 102,
      "outputs": []
    },
    {
      "cell_type": "code",
      "source": [
        "def topological_signature(tensor):\n",
        "    grad_x = tensor[:, :, 1:, :] - tensor[:, :, :-1, :]\n",
        "    grad_y = tensor[:, :, :, 1:] - tensor[:, :, :, :-1]\n",
        "    variation = grad_x.abs().mean() + grad_y.abs().mean()\n",
        "    return variation.item()\n",
        "\n",
        "#signature = topological_signature(x_adv)\n",
        "#print(\"Gradient variation:\", signature)"
      ],
      "metadata": {
        "id": "5V-YW5SVZ97b"
      },
      "id": "5V-YW5SVZ97b",
      "execution_count": 29,
      "outputs": []
    },
    {
      "cell_type": "code",
      "source": [
        "def patch_def(img):\n",
        "    img = bit_depth_reduction(img)\n",
        "    #img = feature_squeezing(img)\n",
        "    #img = gaussian_blur(img)\n",
        "    #img = jpeg_compression(img)\n",
        "    #img = patch_replace(img)\n",
        "    #img = autoencoder(img)\n",
        "\n",
        "    return img\n"
      ],
      "metadata": {
        "id": "mSCxfDx_fRKF"
      },
      "id": "mSCxfDx_fRKF",
      "execution_count": 107,
      "outputs": []
    },
    {
      "cell_type": "markdown",
      "id": "be2746f05b79d73",
      "metadata": {
        "id": "be2746f05b79d73"
      },
      "source": [
        "This cell sets the model to evaluation mode and performs predictions on five images. It then displays the images together with their ground-truth labels and the model’s predicted labels.\n"
      ]
    },
    {
      "cell_type": "code",
      "id": "3bc986fe5cb8f1cb",
      "metadata": {
        "id": "3bc986fe5cb8f1cb",
        "colab": {
          "base_uri": "https://localhost:8080/",
          "height": 198
        },
        "outputId": "789461cb-d342-4987-d6a3-e42aacd7b2ee"
      },
      "source": [
        "model.eval() # Set the model to evaluation mode\n",
        "\n",
        "dataiter = iter(test_set) # Get an iterator over the test set\n",
        "images, labels = next(dataiter) # Get a batch of images and labels\n",
        "\n",
        "# patching the image before prediction\n",
        "images = patch_def(images)\n",
        "# Get model predictions\n",
        "outputs = model(images)\n",
        "_, predicted = torch.max(outputs, 1)\n",
        "\n",
        "# Show images with ground truth and predictions\n",
        "fig, axes = plt.subplots(1, 5, figsize=(15, 3))\n",
        "for i in range(5):\n",
        "    ax = axes[i]\n",
        "    ax.imshow(np.transpose(images[i].detach().numpy(), (1, 2, 0)))\n",
        "    ax.set_title(f\"GT: {cifar10_labels[labels[i].item()]} Pred: {cifar10_labels[predicted[i].item()]}\")\n",
        "    ax.axis('off')\n",
        "plt.show()"
      ],
      "outputs": [
        {
          "output_type": "display_data",
          "data": {
            "text/plain": [
              "<Figure size 1500x300 with 5 Axes>"
            ],
            "image/png": "[encoded data removed]"
          },
          "metadata": {}
        }
      ],
      "execution_count": 108
    },
    {
      "cell_type": "markdown",
      "id": "465c5270958ed80e",
      "metadata": {
        "id": "465c5270958ed80e"
      },
      "source": [
        "This cell takes an image and passes it through the model to obtain class predictions. The softmax function is then applied to convert the model’s output into probabilities. Finally, a bar chart is plotted to show the model’s confidence for each class label of the selected image.  \n",
        "\n",
        "Plot the model’s confidence for the Concorde image. Is the model confident that the image represents an airplane?\n"
      ]
    },
    {
      "cell_type": "code",
      "id": "602e53584d5bbd6b",
      "metadata": {
        "id": "602e53584d5bbd6b",
        "colab": {
          "base_uri": "https://localhost:8080/",
          "height": 181
        },
        "outputId": "ddb882bb-4f06-4e29-e62c-a979a79a11dc"
      },
      "source": [
        "image = images[3].unsqueeze(0)# TODO : (c) Set the variable image as the Conorde image using the tensor images. You may need to use .unsqueeze(0) to add a batch dimension\n",
        "image = patch_def(image) #patching\n",
        "softmax = torch.nn.Softmax(dim=1)\n",
        "proba = softmax(model(image).detach()).numpy()[0]\n",
        "plt.figure(figsize=(20, 3))\n",
        "plt.bar(cifar10_labels, proba)\n",
        "plt.title(\"Confidence of the model for the Concorde image\")\n",
        "plt.show()"
      ],
      "outputs": [
        {
          "output_type": "display_data",
          "data": {
            "text/plain": [
              "<Figure size 2000x300 with 1 Axes>"
            ],
            "image/png": "[encoded data removed]"
          },
          "metadata": {}
        }
      ],
      "execution_count": 109
    },
    {
      "cell_type": "markdown",
      "id": "ddc55d452efaaabf",
      "metadata": {
        "id": "ddc55d452efaaabf"
      },
      "source": [
        "## Untargetted Attack"
      ]
    },
    {
      "cell_type": "markdown",
      "id": "6847d16cfb6f05a3",
      "metadata": {
        "id": "6847d16cfb6f05a3"
      },
      "source": [
        "You can see that, according to its confidence in certain predictions, the model is generally able to provide a good answer for most inputs. However, it can still be fooled. In particular, if we take $x$ to be an image of the Concorde, for which the model outputs $F_\\theta(x) = 0$ (i.e., $x$ is classified as an airplane), we can construct an image $\\hat{x}$ that looks visually identical, but such that $F_\\theta(\\hat{x}) \\neq 0$ (i.e., $\\hat{x}$ is assigned to a different class). To achieve this, we will investigate the Fast Gradient Sign Method (FGSM). This technique consists, for an input $x$ and its corresponding label $y$, in creating $\\hat{x}$ as follows:\n",
        "\n",
        "$$\\hat{x} =  x + \\epsilon \\times \\text{sign} \\left( \\nabla_{x} J \\left( \\theta, x, y \\right) \\right) $$\n",
        "\n",
        "Let us break down this formula. First, we need to compute $\\nabla_{x} J \\left( \\theta, x, y \\right)$, which corresponds to the gradient of the loss function $J$ with respect to the input $x$, evaluated at $(\\theta, x, y)$.\n",
        "\n",
        "Define $x$ as the Concorde image and $y$ as the \"airplane\" label:\n"
      ]
    },
    {
      "cell_type": "code",
      "id": "19eb32c02ecf7749",
      "metadata": {
        "id": "19eb32c02ecf7749"
      },
      "source": [
        "x = images[3].unsqueeze(0) #image # TODO (d) : Define the Concorde image\n",
        "y = torch.tensor(0)# TODO (d) : Define the airplane label"
      ],
      "outputs": [],
      "execution_count": 110
    },
    {
      "cell_type": "markdown",
      "id": "ea64b62875053d9d",
      "metadata": {
        "id": "ea64b62875053d9d"
      },
      "source": [
        "We let PyTorch compute the gradient of the loss function $J$ with respect to the input $x$:\n"
      ]
    },
    {
      "cell_type": "code",
      "source": [
        "x.requires_grad = True"
      ],
      "metadata": {
        "id": "_Vs9ig99ivof"
      },
      "id": "_Vs9ig99ivof",
      "execution_count": 111,
      "outputs": []
    },
    {
      "cell_type": "markdown",
      "id": "a5e57e174409fffd",
      "metadata": {
        "id": "a5e57e174409fffd"
      },
      "source": [
        "We define the loss function $J$ as the cross-entropy loss, following the PyTorch documentation and using the default parameters (https://pytorch.org/docs/stable/nn.html) :"
      ]
    },
    {
      "cell_type": "code",
      "id": "a914b9800394540f",
      "metadata": {
        "id": "a914b9800394540f"
      },
      "source": [
        "J = nn.CrossEntropyLoss() # TODO (d) : Define the loss function"
      ],
      "outputs": [],
      "execution_count": 112
    },
    {
      "cell_type": "markdown",
      "id": "d8bd1326888fbba",
      "metadata": {
        "id": "d8bd1326888fbba"
      },
      "source": [
        "Now we compute $\\nabla_{x} J \\left( \\theta,x,y \\right)$ :"
      ]
    },
    {
      "cell_type": "code",
      "id": "95db76936f127680",
      "metadata": {
        "id": "95db76936f127680"
      },
      "source": [
        "y_tilde = model(x)\n",
        "loss = J(y_tilde, y.unsqueeze(0))\n",
        "loss.backward()"
      ],
      "outputs": [],
      "execution_count": 113
    },
    {
      "cell_type": "markdown",
      "id": "3becc528df4e0bd6",
      "metadata": {
        "id": "3becc528df4e0bd6"
      },
      "source": [
        "The value of $\\nabla_{x} J \\left( \\theta, x, y \\right)$ is stored in ```x.grad```. Using this, and the ```torch.sign``` function, we can define $x + \\epsilon \\times \\text{sign} \\left( \\nabla_{x} J \\left( \\theta, x, y \\right) \\right)$ with an arbitrary value of $\\epsilon$:"
      ]
    },
    {
      "cell_type": "code",
      "id": "62b243f88050b476",
      "metadata": {
        "id": "62b243f88050b476"
      },
      "source": [
        "epsilon = 0.005  # Define an arbitrary epsilon value\n",
        "perturbation =  torch.sign(x.grad)\n",
        "adversarial_image = x + epsilon * perturbation # TODO (d) : Define the adversarial image"
      ],
      "outputs": [],
      "execution_count": 114
    },
    {
      "cell_type": "code",
      "source": [
        "adversarial_image = patch_def(adversarial_image)"
      ],
      "metadata": {
        "id": "6MmBnF8FduS3"
      },
      "id": "6MmBnF8FduS3",
      "execution_count": 115,
      "outputs": []
    },
    {
      "cell_type": "markdown",
      "id": "9229ed0fb9899b9f",
      "metadata": {
        "id": "9229ed0fb9899b9f"
      },
      "source": [
        "The model's prediction for the adversarial image is:"
      ]
    },
    {
      "cell_type": "code",
      "id": "67b3b08c31b36775",
      "metadata": {
        "id": "67b3b08c31b36775"
      },
      "source": [
        "averarial_predicted = model(adversarial_image).argmax().cpu()"
      ],
      "outputs": [],
      "execution_count": 116
    },
    {
      "cell_type": "markdown",
      "id": "603d873ef61f5a46",
      "metadata": {
        "id": "603d873ef61f5a46"
      },
      "source": [
        "Let us show the final result:"
      ]
    },
    {
      "cell_type": "code",
      "id": "57c40d966f94c42b",
      "metadata": {
        "id": "57c40d966f94c42b",
        "colab": {
          "base_uri": "https://localhost:8080/",
          "height": 280
        },
        "outputId": "c407a917-9d90-4714-d02c-5198a51a1f82"
      },
      "source": [
        "fig, axes = plt.subplots(1, 3, figsize=(15, 3))\n",
        "ax = axes[0]\n",
        "ax.imshow(np.transpose(image[0].detach().numpy(), (1, 2, 0)))\n",
        "ax.set_title(f\"GT: {cifar10_labels[labels[3].item()]} Pred: {cifar10_labels[predicted[3].argmax().item()]}\")\n",
        "ax.axis('off')\n",
        "ax = axes[1]\n",
        "ax.imshow(np.transpose((perturbation)[0].detach().cpu().numpy(), (1, 2, 0)) + 0.5)\n",
        "ax.set_title(f\"Pertubation + 0.5\")\n",
        "ax.axis('off')\n",
        "ax = axes[2]\n",
        "ax.imshow(np.transpose(adversarial_image[0].detach().cpu().numpy(), (1, 2, 0)))\n",
        "ax.set_title(f\"GT: {cifar10_labels[labels[3].item()]} Pred: {cifar10_labels[averarial_predicted.item()]}\")\n",
        "ax.axis('off')\n",
        "plt.show()"
      ],
      "outputs": [
        {
          "output_type": "stream",
          "name": "stderr",
          "text": [
            "WARNING:matplotlib.image:Clipping input data to the valid range for imshow with RGB data ([0..1] for floats or [0..255] for integers). Got range [-0.5..1.5].\n"
          ]
        },
        {
          "output_type": "display_data",
          "data": {
            "text/plain": [
              "<Figure size 1500x300 with 3 Axes>"
            ],
            "image/png": "[encoded data removed]"
          },
          "metadata": {}
        }
      ],
      "execution_count": 117
    },
    {
      "cell_type": "markdown",
      "id": "9e73f92a2a522831",
      "metadata": {
        "id": "9e73f92a2a522831"
      },
      "source": [
        "Show the corresponding confidence:"
      ]
    },
    {
      "cell_type": "code",
      "id": "aeeb4017caca7228",
      "metadata": {
        "id": "aeeb4017caca7228",
        "colab": {
          "base_uri": "https://localhost:8080/",
          "height": 181
        },
        "outputId": "c8000656-e9fa-47c4-a367-b84045741af1"
      },
      "source": [
        "proba = softmax(model(adversarial_image).detach()).numpy()[0]\n",
        "plt.figure(figsize=(20, 3))\n",
        "plt.bar(cifar10_labels, proba)\n",
        "plt.title(\"Confidence of the model for the adversarial Concorde image\")\n",
        "plt.show()"
      ],
      "outputs": [
        {
          "output_type": "display_data",
          "data": {
            "text/plain": [
              "<Figure size 2000x300 with 1 Axes>"
            ],
            "image/png": "[encoded data removed]"
          },
          "metadata": {}
        }
      ],
      "execution_count": 118
    },
    {
      "cell_type": "markdown",
      "id": "405cc5c3f37a5ea",
      "metadata": {
        "id": "405cc5c3f37a5ea"
      },
      "source": [
        "## Targeted attack"
      ]
    },
    {
      "cell_type": "markdown",
      "id": "a900ca4ad23abd",
      "metadata": {
        "id": "a900ca4ad23abd"
      },
      "source": [
        "As you can see, we indeed have $F_\\theta(\\hat{x}) = \\tilde{y}$, where $\\tilde{y} \\neq 0$. However, we cannot control the value of $\\tilde{y}$ because we are simply maximizing the loss with respect to the initial label $y$. Let us now specify the target class that we want the model to predict for this image. To do so, we apply\n",
        "\n",
        "\\begin{equation}\n",
        "    \\hat{x} =  x - \\epsilon \\times \\text{sign} \\left( \\nabla_{x} J \\left( \\theta, x, \\hat{y} \\right) \\right)\n",
        "\\end{equation}\n",
        "\n",
        "from which we can observe two changes: first, there is a minus sign, which appears because we aim to minimize the loss (as in gradient descent); and second, the loss is computed using $\\hat{y}$ as the target."
      ]
    },
    {
      "cell_type": "markdown",
      "id": "ebca8aa523cac8bd",
      "metadata": {
        "id": "ebca8aa523cac8bd"
      },
      "source": [
        "Using what we have done previously, we define the adversarial image for the targeted attack as:"
      ]
    },
    {
      "cell_type": "code",
      "id": "c544a7a000fee6e6",
      "metadata": {
        "id": "c544a7a000fee6e6"
      },
      "source": [
        "# TODO (e) : Implement the targetted attack\n",
        "x = images[3].unsqueeze(0) # TODO (d) : Define the Concorde image\n",
        "y = torch.tensor(3) # TODO (d) : Define the airplane label\n",
        "x.requires_grad = True\n",
        "J = nn.CrossEntropyLoss() # TODO (d) : Define the loss function\n",
        "y_tilde = model(x)\n",
        "loss = J(y_tilde, y.unsqueeze(0))\n",
        "loss.backward()\n",
        "epsilon = 0.05  # Define an arbitrary epsilon value\n",
        "perturbation = torch.sign(x.grad)\n",
        "targetted_adversarial_image = x - epsilon * perturbation"
      ],
      "outputs": [],
      "execution_count": 119
    },
    {
      "cell_type": "code",
      "source": [
        "targetted_adversarial_image = patch_def(targetted_adversarial_image)"
      ],
      "metadata": {
        "id": "CVpZZovopJJR"
      },
      "id": "CVpZZovopJJR",
      "execution_count": 122,
      "outputs": []
    },
    {
      "cell_type": "code",
      "source": [
        "adversarial_predicted = model(targetted_adversarial_image).argmax().cpu()"
      ],
      "metadata": {
        "id": "wlpNAfNHWJVA"
      },
      "id": "wlpNAfNHWJVA",
      "execution_count": 123,
      "outputs": []
    },
    {
      "cell_type": "markdown",
      "id": "3ee0e070bd899abb",
      "metadata": {
        "id": "3ee0e070bd899abb"
      },
      "source": [
        "Show the result :"
      ]
    },
    {
      "cell_type": "code",
      "id": "ec1a495e73b03f1b",
      "metadata": {
        "id": "ec1a495e73b03f1b",
        "colab": {
          "base_uri": "https://localhost:8080/",
          "height": 280
        },
        "outputId": "0e1a642b-8b3d-438b-89de-964cd394a21b"
      },
      "source": [
        "fig, axes = plt.subplots(1, 3, figsize=(15, 3))\n",
        "ax = axes[0]\n",
        "ax.imshow(np.transpose(image[0].detach().numpy(), (1, 2, 0)))\n",
        "ax.set_title(f\"GT: {cifar10_labels[labels[3].item()]} Pred: {cifar10_labels[predicted[3].argmax().item()]}\")\n",
        "ax.axis('off')\n",
        "ax = axes[1]\n",
        "ax.imshow(np.transpose((perturbation)[0].detach().cpu().numpy(), (1, 2, 0)) + 0.5)\n",
        "ax.set_title(f\"Pertubation + 0.5\")\n",
        "ax.axis('off')\n",
        "ax = axes[2]\n",
        "ax.imshow(np.transpose(adversarial_image[0].detach().cpu().numpy(), (1, 2, 0)))\n",
        "ax.set_title(f\"GT: {cifar10_labels[labels[3].item()]} Pred: {cifar10_labels[adversarial_predicted.item()]}\")\n",
        "ax.axis('off')\n",
        "plt.show()"
      ],
      "outputs": [
        {
          "output_type": "stream",
          "name": "stderr",
          "text": [
            "WARNING:matplotlib.image:Clipping input data to the valid range for imshow with RGB data ([0..1] for floats or [0..255] for integers). Got range [-0.5..1.5].\n"
          ]
        },
        {
          "output_type": "display_data",
          "data": {
            "text/plain": [
              "<Figure size 1500x300 with 3 Axes>"
            ],
            "image/png": "[encoded data removed]"
          },
          "metadata": {}
        }
      ],
      "execution_count": 124
    },
    {
      "cell_type": "markdown",
      "id": "504fe48ff9dc946f",
      "metadata": {
        "id": "504fe48ff9dc946f"
      },
      "source": [
        "Show the corresponding confidence :"
      ]
    },
    {
      "cell_type": "code",
      "id": "533e05e12bd29486",
      "metadata": {
        "id": "533e05e12bd29486",
        "colab": {
          "base_uri": "https://localhost:8080/",
          "height": 181
        },
        "outputId": "f3dc410f-1823-47a8-f8c6-95273f2b6305"
      },
      "source": [
        "proba = softmax(model(adversarial_image).detach()).numpy()[0]\n",
        "plt.figure(figsize=(20, 3))\n",
        "plt.bar(cifar10_labels, proba)\n",
        "plt.title(\"Confidence of the model for the adversarial Concorde image\")\n",
        "plt.show()"
      ],
      "outputs": [
        {
          "output_type": "display_data",
          "data": {
            "text/plain": [
              "<Figure size 2000x300 with 1 Axes>"
            ],
            "image/png": "[encoded data removed]"
          },
          "metadata": {}
        }
      ],
      "execution_count": 125
    },
    {
      "cell_type": "markdown",
      "source": [
        "From the 06 techniques evaluated, only the **bit depth reduction** gave good results on targetted & untargetted attacks. As it strongly reinforces confidence on the prediction, it weakens the adversarials perturbations."
      ],
      "metadata": {
        "id": "u3iJwzc8pXdo"
      },
      "id": "u3iJwzc8pXdo"
    }
  ],
  "metadata": {
    "kernelspec": {
      "display_name": "Python 3",
      "name": "python3"
    },
    "language_info": {
      "codemirror_mode": {
        "name": "ipython",
        "version": 3
      },
      "file_extension": ".py",
      "mimetype": "text/x-python",
      "name": "python",
      "nbconvert_exporter": "python",
      "pygments_lexer": "ipython3",
      "version": "3.12.3"
    },
    "colab": {
      "provenance": [],
      "gpuType": "T4",
      "include_colab_link": true
    },
    "accelerator": "GPU"
  },
  "nbformat": 4,
  "nbformat_minor": 5
}